{
 "cells": [
  {
   "cell_type": "markdown",
   "id": "33f8d847",
   "metadata": {},
   "source": [
    "# Analista para el operador de telecomunicaciones Megaline\n",
    "La empresa ofrece a sus clientes dos tarifas de prepago, Surf y Ultimate. El departamento comercial quiere saber cuál de los planes genera más ingresos para poder ajustar el presupuesto de publicidad.\n",
    "\n",
    "El proyecto se divide en 4 etapas:\n",
    "1. Abrir el archivo de datos \n",
    "2. Estudiar la información general y preparar los datos\n",
    "3. Analizar los datos\n",
    "4. Prueba de las hipótesis\n",
    "\n",
    "Objetivo: Determinar qué plan, en promedio, aporta más ingresos\n",
    "\n",
    "# Descripción de las tarifas\n",
    "Nota: Megaline redondea los segundos a minutos y los megabytes a gigabytes. Para llamadas, cada llamada individual se redondea: incluso si la llamada duró solo un segundo, se contará como un minuto. Para tráfico web, las sesiones web individuales no se redondean. En vez de esto, el total del mes se redondea hacia arriba. Si alguien usa 1025 megabytes este mes, se le cobrarán 2 gigabytes.\n",
    "\n",
    "A continuación puedes ver una descripción de las tarifas:\n",
    "\n",
    "Surf\n",
    "1. Pago mensual: 20\n",
    "2. 500 minutos al mes, 50 SMS y 15 GB de datos.\n",
    "3. Si se exceden los límites del paquete:\n",
    "    - 1 minuto: 3 centavos.\n",
    "    - 1 SMS: 3 centavos.\n",
    "    - 1 GB de datos: 10.\n",
    "    \n",
    "Ultimate\n",
    "1. Pago mensual: 70.\n",
    "2. 3000 minutos al mes, 1000 SMS y 30 GB de datos.\n",
    "3. Si se exceden los límites del paquete:\n",
    "    - 1 minuto: 1 centavo.\n",
    "    - 1 SMS: 1 centavo.\n",
    "    - 1 GB de datos: 7.\n",
    "\n",
    "# Diccionario de datos\n",
    "Se tiene  cinco tablas diferentes.\n",
    "\n",
    "1. La tabla users (datos sobre los usuarios):\n",
    "- user_id: identificador único del usuario.\n",
    "- first_name: nombre del usuario.\n",
    "- last_name: apellido del usuario.\n",
    "- age: edad del usuario (en años).\n",
    "- reg_date: fecha de suscripción (dd, mm, aa).\n",
    "- churn_date: la fecha en la que el usuario dejó de usar el servicio (si el valor es ausente, la tarifa se estaba usando cuando fue extraída esta base de datos).\n",
    "- city: ciudad de residencia del usuario.\n",
    "- plan: nombre de la tarifa.\n",
    "\n",
    "2. La tabla calls (datos sobre las llamadas):\n",
    "- id: identificador único de la llamada.\n",
    "- call_date: fecha de la llamada.\n",
    "- duration: duración de la llamada (en minutos).\n",
    "- user_id: el identificador del usuario que realiza la llamada.\n",
    "\n",
    "3. La tabla messages (datos sobre los SMS):\n",
    "- id: identificador único del SMS.\n",
    "- message_date: fecha del SMS.\n",
    "- user_id: el identificador del usuario que manda el SMS.\n",
    "\n",
    "4. La tabla internet (datos sobre las sesiones web):\n",
    "- id: identificador único de la sesión.\n",
    "- mb_used: el volumen de datos gastados durante la sesión (en megabytes).\n",
    "- session_date: fecha de la sesión web.\n",
    "- user_id: identificador del usuario.\n",
    "\n",
    "5. La tabla plans (datos sobre las tarifas):\n",
    "- plan_name: nombre de la tarifa.\n",
    "- usd_monthly_fee: pago mensual en dólares estadounidenses.\n",
    "- minutes_included: minutos incluidos al mes.\n",
    "- messages_included: SMS incluidos al mes.\n",
    "- mb_per_month_included: datos incluidos al mes (en megabytes).\n",
    "- usd_per_minute: precio por minuto tras exceder los límites del paquete (por ejemplo, si el paquete incluye 100 minutos, el operador cobrará el minuto 101).\n",
    "- usd_per_message: precio por SMS tras exceder los límites del paquete.\n",
    "- usd_per_gb: precio por gigabyte de los datos extra tras exceder los límites del paquete (1 GB = 1024 megabytes)."
   ]
  },
  {
   "cell_type": "markdown",
   "id": "6961bb03",
   "metadata": {},
   "source": [
    "## Abrir el archivo de datos"
   ]
  },
  {
   "cell_type": "markdown",
   "id": "60e4973e",
   "metadata": {},
   "source": [
    "Se importan las librerías que se van a utilizar:"
   ]
  },
  {
   "cell_type": "code",
   "execution_count": 1,
   "id": "6a416d0c",
   "metadata": {},
   "outputs": [],
   "source": [
    "import pandas as pd\n",
    "import numpy as np\n",
    "from scipy import stats as st\n",
    "from matplotlib import pyplot as plt\n",
    "import math\n",
    "import seaborn as sns"
   ]
  },
  {
   "cell_type": "markdown",
   "id": "09ea525a",
   "metadata": {},
   "source": [
    "Se leen y examinan los archivos que contiene los datos: "
   ]
  },
  {
   "cell_type": "code",
   "execution_count": 2,
   "id": "c0fb38d2",
   "metadata": {},
   "outputs": [],
   "source": [
    "calls = pd.read_csv('/datasets/megaline_calls.csv')\n",
    "internet = pd.read_csv('/datasets/megaline_internet.csv')\n",
    "messages = pd.read_csv('/datasets/megaline_messages.csv')\n",
    "plans = pd.read_csv('/datasets/megaline_plans.csv')\n",
    "users = pd.read_csv('/datasets/megaline_users.csv')"
   ]
  },
  {
   "cell_type": "markdown",
   "id": "0f92108f",
   "metadata": {},
   "source": [
    "## Estudiar la información general y Preparar los datos"
   ]
  },
  {
   "cell_type": "markdown",
   "id": "022266da",
   "metadata": {},
   "source": [
    "### Planes"
   ]
  },
  {
   "cell_type": "code",
   "execution_count": 10,
   "id": "e25249d1",
   "metadata": {},
   "outputs": [
    {
     "name": "stdout",
     "output_type": "stream",
     "text": [
      "<class 'pandas.core.frame.DataFrame'>\n",
      "RangeIndex: 2 entries, 0 to 1\n",
      "Data columns (total 8 columns):\n",
      " #   Column                 Non-Null Count  Dtype  \n",
      "---  ------                 --------------  -----  \n",
      " 0   messages_included      2 non-null      int64  \n",
      " 1   mb_per_month_included  2 non-null      int64  \n",
      " 2   minutes_included       2 non-null      int64  \n",
      " 3   usd_monthly_pay        2 non-null      int64  \n",
      " 4   usd_per_gb             2 non-null      int64  \n",
      " 5   usd_per_message        2 non-null      float64\n",
      " 6   usd_per_minute         2 non-null      float64\n",
      " 7   plan_name              2 non-null      object \n",
      "dtypes: float64(2), int64(5), object(1)\n",
      "memory usage: 256.0+ bytes\n"
     ]
    }
   ],
   "source": [
    "#Extraer la información general\n",
    "plans.info()"
   ]
  },
  {
   "cell_type": "markdown",
   "id": "c09d8de9",
   "metadata": {},
   "source": [
    "El dataframe se puede leer tal cual está. Casi todos los datos son enteros, a excepción de los precios que son decimales y el nombre del plan que es una palabra y no hay valores ausentes."
   ]
  },
  {
   "cell_type": "markdown",
   "id": "c48951b0",
   "metadata": {},
   "source": [
    "Corregir datos:"
   ]
  },
  {
   "cell_type": "code",
   "execution_count": 11,
   "id": "30740021",
   "metadata": {},
   "outputs": [],
   "source": [
    "#Pasar los mb a gb, porque el cobro se hace en gb\n",
    "plans['mb_per_month_included'] = plans['mb_per_month_included']/1024 \n",
    "\n",
    "#Renombrar la unidad de medida para mayor claridad\n",
    "plans.rename(columns={'mb_per_month_included': 'gb_per_month_included'}, inplace=True) "
   ]
  },
  {
   "cell_type": "markdown",
   "id": "c2a1fcbf",
   "metadata": {},
   "source": [
    "### Usuarios"
   ]
  },
  {
   "cell_type": "code",
   "execution_count": 12,
   "id": "8febe6c4",
   "metadata": {},
   "outputs": [
    {
     "name": "stdout",
     "output_type": "stream",
     "text": [
      "<class 'pandas.core.frame.DataFrame'>\n",
      "RangeIndex: 500 entries, 0 to 499\n",
      "Data columns (total 8 columns):\n",
      " #   Column      Non-Null Count  Dtype \n",
      "---  ------      --------------  ----- \n",
      " 0   user_id     500 non-null    int64 \n",
      " 1   first_name  500 non-null    object\n",
      " 2   last_name   500 non-null    object\n",
      " 3   age         500 non-null    int64 \n",
      " 4   city        500 non-null    object\n",
      " 5   reg_date    500 non-null    object\n",
      " 6   plan        500 non-null    object\n",
      " 7   churn_date  34 non-null     object\n",
      "dtypes: int64(2), object(6)\n",
      "memory usage: 31.4+ KB\n"
     ]
    }
   ],
   "source": [
    "#Extraer la información general\n",
    "users.info()"
   ]
  },
  {
   "cell_type": "markdown",
   "id": "132f5659",
   "metadata": {},
   "source": [
    "Los datos se pueden leer sin necesidad de establecer algún parámetro extra. En la columna 'churn_date' hay valores ausentes, sin embargo se sabe que esto corresponde a usuarios que aún estaban usando la tarifa en el momento en que fue extraída la base de datos. Para mejor manejo de los datos, las columnas 'reg_date' y 'churn_date' se pueden modificar de objet a datetime."
   ]
  },
  {
   "cell_type": "markdown",
   "id": "3646c3e8",
   "metadata": {},
   "source": [
    "Corregir datos:"
   ]
  },
  {
   "cell_type": "code",
   "execution_count": 15,
   "id": "e087cf81",
   "metadata": {},
   "outputs": [],
   "source": [
    "#Pasar la columna 'reg_date' a datetime\n",
    "users['reg_date'] = pd.to_datetime(users['reg_date'], format='%Y-%m-%d') \n",
    "\n",
    "#Pasar la columna 'churn_date' a datetime\n",
    "users['churn_date'] = pd.to_datetime(users['churn_date'], format='%Y-%m-%d') "
   ]
  },
  {
   "cell_type": "code",
   "execution_count": 17,
   "id": "96fba373",
   "metadata": {},
   "outputs": [
    {
     "data": {
      "text/html": [
       "<div>\n",
       "<style scoped>\n",
       "    .dataframe tbody tr th:only-of-type {\n",
       "        vertical-align: middle;\n",
       "    }\n",
       "\n",
       "    .dataframe tbody tr th {\n",
       "        vertical-align: top;\n",
       "    }\n",
       "\n",
       "    .dataframe thead th {\n",
       "        text-align: right;\n",
       "    }\n",
       "</style>\n",
       "<table border=\"1\" class=\"dataframe\">\n",
       "  <thead>\n",
       "    <tr style=\"text-align: right;\">\n",
       "      <th></th>\n",
       "      <th>user_id</th>\n",
       "      <th>first_name</th>\n",
       "      <th>last_name</th>\n",
       "      <th>age</th>\n",
       "      <th>city</th>\n",
       "      <th>reg_date</th>\n",
       "      <th>plan</th>\n",
       "      <th>churn_date</th>\n",
       "    </tr>\n",
       "  </thead>\n",
       "  <tbody>\n",
       "  </tbody>\n",
       "</table>\n",
       "</div>"
      ],
      "text/plain": [
       "Empty DataFrame\n",
       "Columns: [user_id, first_name, last_name, age, city, reg_date, plan, churn_date]\n",
       "Index: []"
      ]
     },
     "execution_count": 17,
     "metadata": {},
     "output_type": "execute_result"
    }
   ],
   "source": [
    "#Verifica que no haya duplicados\n",
    "users[users.duplicated()]"
   ]
  },
  {
   "cell_type": "markdown",
   "id": "c2bfffdd",
   "metadata": {},
   "source": [
    "### Llamadas"
   ]
  },
  {
   "cell_type": "code",
   "execution_count": 4,
   "id": "03844724",
   "metadata": {},
   "outputs": [
    {
     "name": "stdout",
     "output_type": "stream",
     "text": [
      "<class 'pandas.core.frame.DataFrame'>\n",
      "RangeIndex: 137735 entries, 0 to 137734\n",
      "Data columns (total 4 columns):\n",
      " #   Column     Non-Null Count   Dtype  \n",
      "---  ------     --------------   -----  \n",
      " 0   id         137735 non-null  object \n",
      " 1   user_id    137735 non-null  int64  \n",
      " 2   call_date  137735 non-null  object \n",
      " 3   duration   137735 non-null  float64\n",
      "dtypes: float64(1), int64(1), object(2)\n",
      "memory usage: 4.2+ MB\n"
     ]
    }
   ],
   "source": [
    "#Extraigo la información general\n",
    "calls.info()"
   ]
  },
  {
   "cell_type": "markdown",
   "id": "61bab921",
   "metadata": {},
   "source": [
    "Para mejor manejo de los datos se puede pasar a datetime la columna 'call_date' y ya que la compañía redondea las llamadas, también se puede pasar la duración de las llamadas a enteros. No hay valores ausentes."
   ]
  },
  {
   "cell_type": "code",
   "execution_count": 6,
   "id": "46ed0a29",
   "metadata": {},
   "outputs": [
    {
     "data": {
      "text/html": [
       "<div>\n",
       "<style scoped>\n",
       "    .dataframe tbody tr th:only-of-type {\n",
       "        vertical-align: middle;\n",
       "    }\n",
       "\n",
       "    .dataframe tbody tr th {\n",
       "        vertical-align: top;\n",
       "    }\n",
       "\n",
       "    .dataframe thead th {\n",
       "        text-align: right;\n",
       "    }\n",
       "</style>\n",
       "<table border=\"1\" class=\"dataframe\">\n",
       "  <thead>\n",
       "    <tr style=\"text-align: right;\">\n",
       "      <th></th>\n",
       "      <th>id</th>\n",
       "      <th>user_id</th>\n",
       "      <th>call_date</th>\n",
       "      <th>duration</th>\n",
       "    </tr>\n",
       "  </thead>\n",
       "  <tbody>\n",
       "    <tr>\n",
       "      <th>0</th>\n",
       "      <td>1000_93</td>\n",
       "      <td>1000</td>\n",
       "      <td>2018-12-27</td>\n",
       "      <td>8.52</td>\n",
       "    </tr>\n",
       "    <tr>\n",
       "      <th>1</th>\n",
       "      <td>1000_145</td>\n",
       "      <td>1000</td>\n",
       "      <td>2018-12-27</td>\n",
       "      <td>13.66</td>\n",
       "    </tr>\n",
       "    <tr>\n",
       "      <th>2</th>\n",
       "      <td>1000_247</td>\n",
       "      <td>1000</td>\n",
       "      <td>2018-12-27</td>\n",
       "      <td>14.48</td>\n",
       "    </tr>\n",
       "    <tr>\n",
       "      <th>3</th>\n",
       "      <td>1000_309</td>\n",
       "      <td>1000</td>\n",
       "      <td>2018-12-28</td>\n",
       "      <td>5.76</td>\n",
       "    </tr>\n",
       "    <tr>\n",
       "      <th>4</th>\n",
       "      <td>1000_380</td>\n",
       "      <td>1000</td>\n",
       "      <td>2018-12-30</td>\n",
       "      <td>4.22</td>\n",
       "    </tr>\n",
       "    <tr>\n",
       "      <th>5</th>\n",
       "      <td>1000_388</td>\n",
       "      <td>1000</td>\n",
       "      <td>2018-12-31</td>\n",
       "      <td>2.20</td>\n",
       "    </tr>\n",
       "    <tr>\n",
       "      <th>6</th>\n",
       "      <td>1000_510</td>\n",
       "      <td>1000</td>\n",
       "      <td>2018-12-27</td>\n",
       "      <td>5.75</td>\n",
       "    </tr>\n",
       "    <tr>\n",
       "      <th>7</th>\n",
       "      <td>1000_521</td>\n",
       "      <td>1000</td>\n",
       "      <td>2018-12-28</td>\n",
       "      <td>14.18</td>\n",
       "    </tr>\n",
       "    <tr>\n",
       "      <th>8</th>\n",
       "      <td>1000_530</td>\n",
       "      <td>1000</td>\n",
       "      <td>2018-12-28</td>\n",
       "      <td>5.77</td>\n",
       "    </tr>\n",
       "    <tr>\n",
       "      <th>9</th>\n",
       "      <td>1000_544</td>\n",
       "      <td>1000</td>\n",
       "      <td>2018-12-26</td>\n",
       "      <td>4.40</td>\n",
       "    </tr>\n",
       "    <tr>\n",
       "      <th>10</th>\n",
       "      <td>1000_693</td>\n",
       "      <td>1000</td>\n",
       "      <td>2018-12-31</td>\n",
       "      <td>4.31</td>\n",
       "    </tr>\n",
       "    <tr>\n",
       "      <th>11</th>\n",
       "      <td>1000_705</td>\n",
       "      <td>1000</td>\n",
       "      <td>2018-12-31</td>\n",
       "      <td>12.78</td>\n",
       "    </tr>\n",
       "    <tr>\n",
       "      <th>12</th>\n",
       "      <td>1000_735</td>\n",
       "      <td>1000</td>\n",
       "      <td>2018-12-29</td>\n",
       "      <td>1.70</td>\n",
       "    </tr>\n",
       "    <tr>\n",
       "      <th>13</th>\n",
       "      <td>1000_778</td>\n",
       "      <td>1000</td>\n",
       "      <td>2018-12-28</td>\n",
       "      <td>3.29</td>\n",
       "    </tr>\n",
       "    <tr>\n",
       "      <th>14</th>\n",
       "      <td>1000_826</td>\n",
       "      <td>1000</td>\n",
       "      <td>2018-12-26</td>\n",
       "      <td>9.96</td>\n",
       "    </tr>\n",
       "    <tr>\n",
       "      <th>15</th>\n",
       "      <td>1000_842</td>\n",
       "      <td>1000</td>\n",
       "      <td>2018-12-27</td>\n",
       "      <td>5.85</td>\n",
       "    </tr>\n",
       "    <tr>\n",
       "      <th>16</th>\n",
       "      <td>1001_0</td>\n",
       "      <td>1001</td>\n",
       "      <td>2018-09-06</td>\n",
       "      <td>10.06</td>\n",
       "    </tr>\n",
       "    <tr>\n",
       "      <th>17</th>\n",
       "      <td>1001_1</td>\n",
       "      <td>1001</td>\n",
       "      <td>2018-10-12</td>\n",
       "      <td>1.00</td>\n",
       "    </tr>\n",
       "    <tr>\n",
       "      <th>18</th>\n",
       "      <td>1001_2</td>\n",
       "      <td>1001</td>\n",
       "      <td>2018-10-17</td>\n",
       "      <td>15.83</td>\n",
       "    </tr>\n",
       "    <tr>\n",
       "      <th>19</th>\n",
       "      <td>1001_4</td>\n",
       "      <td>1001</td>\n",
       "      <td>2018-12-05</td>\n",
       "      <td>0.00</td>\n",
       "    </tr>\n",
       "  </tbody>\n",
       "</table>\n",
       "</div>"
      ],
      "text/plain": [
       "          id  user_id   call_date  duration\n",
       "0    1000_93     1000  2018-12-27      8.52\n",
       "1   1000_145     1000  2018-12-27     13.66\n",
       "2   1000_247     1000  2018-12-27     14.48\n",
       "3   1000_309     1000  2018-12-28      5.76\n",
       "4   1000_380     1000  2018-12-30      4.22\n",
       "5   1000_388     1000  2018-12-31      2.20\n",
       "6   1000_510     1000  2018-12-27      5.75\n",
       "7   1000_521     1000  2018-12-28     14.18\n",
       "8   1000_530     1000  2018-12-28      5.77\n",
       "9   1000_544     1000  2018-12-26      4.40\n",
       "10  1000_693     1000  2018-12-31      4.31\n",
       "11  1000_705     1000  2018-12-31     12.78\n",
       "12  1000_735     1000  2018-12-29      1.70\n",
       "13  1000_778     1000  2018-12-28      3.29\n",
       "14  1000_826     1000  2018-12-26      9.96\n",
       "15  1000_842     1000  2018-12-27      5.85\n",
       "16    1001_0     1001  2018-09-06     10.06\n",
       "17    1001_1     1001  2018-10-12      1.00\n",
       "18    1001_2     1001  2018-10-17     15.83\n",
       "19    1001_4     1001  2018-12-05      0.00"
      ]
     },
     "execution_count": 6,
     "metadata": {},
     "output_type": "execute_result"
    }
   ],
   "source": [
    "#Imprimo una muestra de los datos\n",
    "calls.head(20)"
   ]
  },
  {
   "cell_type": "markdown",
   "id": "763068c2",
   "metadata": {},
   "source": [
    "En las llamadas que tienen una duración de 0, pueden ser llamadas que salieron o entraron, pero que inmediatamente se cayeron."
   ]
  },
  {
   "cell_type": "markdown",
   "id": "d541889f",
   "metadata": {},
   "source": [
    "Corregir datos:"
   ]
  },
  {
   "cell_type": "code",
   "execution_count": 8,
   "id": "3392d97f",
   "metadata": {},
   "outputs": [],
   "source": [
    "#Cambiar el tipo de datos de las fechas\n",
    "calls['call_date'] = pd.to_datetime(calls['call_date'], format='%Y-%m-%d') \n",
    "\n",
    "#Redondear la duración de las llamadas hacia arriba, ya que esto influye en el cobro \n",
    "calls['duration'] = calls['duration'].apply(np.ceil) "
   ]
  },
  {
   "cell_type": "code",
   "execution_count": 9,
   "id": "1d9591fa",
   "metadata": {},
   "outputs": [
    {
     "data": {
      "text/html": [
       "<div>\n",
       "<style scoped>\n",
       "    .dataframe tbody tr th:only-of-type {\n",
       "        vertical-align: middle;\n",
       "    }\n",
       "\n",
       "    .dataframe tbody tr th {\n",
       "        vertical-align: top;\n",
       "    }\n",
       "\n",
       "    .dataframe thead th {\n",
       "        text-align: right;\n",
       "    }\n",
       "</style>\n",
       "<table border=\"1\" class=\"dataframe\">\n",
       "  <thead>\n",
       "    <tr style=\"text-align: right;\">\n",
       "      <th></th>\n",
       "      <th>id</th>\n",
       "      <th>user_id</th>\n",
       "      <th>call_date</th>\n",
       "      <th>duration</th>\n",
       "    </tr>\n",
       "  </thead>\n",
       "  <tbody>\n",
       "  </tbody>\n",
       "</table>\n",
       "</div>"
      ],
      "text/plain": [
       "Empty DataFrame\n",
       "Columns: [id, user_id, call_date, duration]\n",
       "Index: []"
      ]
     },
     "execution_count": 9,
     "metadata": {},
     "output_type": "execute_result"
    }
   ],
   "source": [
    "#Verifica que no haya duplicados\n",
    "calls[calls.duplicated()]"
   ]
  },
  {
   "cell_type": "markdown",
   "id": "91d2dac3",
   "metadata": {},
   "source": [
    "### Mensajes"
   ]
  },
  {
   "cell_type": "code",
   "execution_count": 19,
   "id": "ad5e16b6",
   "metadata": {},
   "outputs": [
    {
     "name": "stdout",
     "output_type": "stream",
     "text": [
      "<class 'pandas.core.frame.DataFrame'>\n",
      "RangeIndex: 76051 entries, 0 to 76050\n",
      "Data columns (total 3 columns):\n",
      " #   Column        Non-Null Count  Dtype \n",
      "---  ------        --------------  ----- \n",
      " 0   id            76051 non-null  object\n",
      " 1   user_id       76051 non-null  int64 \n",
      " 2   message_date  76051 non-null  object\n",
      "dtypes: int64(1), object(2)\n",
      "memory usage: 1.7+ MB\n"
     ]
    }
   ],
   "source": [
    "#Estraer información general\n",
    "messages.info()"
   ]
  },
  {
   "cell_type": "markdown",
   "id": "70098a45",
   "metadata": {},
   "source": [
    "No hay valores ausentes. Es mejor manejar la fechas en el formato adecuado."
   ]
  },
  {
   "cell_type": "code",
   "execution_count": 20,
   "id": "864bbda9",
   "metadata": {},
   "outputs": [],
   "source": [
    "#Cambiar la columna 'message_date' a datetime\n",
    "messages['message_date'] = pd.to_datetime(messages['message_date'], format='%Y-%m-%d') "
   ]
  },
  {
   "cell_type": "code",
   "execution_count": 21,
   "id": "a745b6d3",
   "metadata": {},
   "outputs": [
    {
     "data": {
      "text/html": [
       "<div>\n",
       "<style scoped>\n",
       "    .dataframe tbody tr th:only-of-type {\n",
       "        vertical-align: middle;\n",
       "    }\n",
       "\n",
       "    .dataframe tbody tr th {\n",
       "        vertical-align: top;\n",
       "    }\n",
       "\n",
       "    .dataframe thead th {\n",
       "        text-align: right;\n",
       "    }\n",
       "</style>\n",
       "<table border=\"1\" class=\"dataframe\">\n",
       "  <thead>\n",
       "    <tr style=\"text-align: right;\">\n",
       "      <th></th>\n",
       "      <th>id</th>\n",
       "      <th>user_id</th>\n",
       "      <th>message_date</th>\n",
       "    </tr>\n",
       "  </thead>\n",
       "  <tbody>\n",
       "  </tbody>\n",
       "</table>\n",
       "</div>"
      ],
      "text/plain": [
       "Empty DataFrame\n",
       "Columns: [id, user_id, message_date]\n",
       "Index: []"
      ]
     },
     "execution_count": 21,
     "metadata": {},
     "output_type": "execute_result"
    }
   ],
   "source": [
    "#Verifica que no haya duplicados\n",
    "messages[messages.duplicated()]"
   ]
  },
  {
   "cell_type": "markdown",
   "id": "610a044a",
   "metadata": {},
   "source": [
    "### Internet"
   ]
  },
  {
   "cell_type": "code",
   "execution_count": 22,
   "id": "35d57faf",
   "metadata": {},
   "outputs": [
    {
     "name": "stdout",
     "output_type": "stream",
     "text": [
      "<class 'pandas.core.frame.DataFrame'>\n",
      "RangeIndex: 104825 entries, 0 to 104824\n",
      "Data columns (total 4 columns):\n",
      " #   Column        Non-Null Count   Dtype  \n",
      "---  ------        --------------   -----  \n",
      " 0   id            104825 non-null  object \n",
      " 1   user_id       104825 non-null  int64  \n",
      " 2   session_date  104825 non-null  object \n",
      " 3   mb_used       104825 non-null  float64\n",
      "dtypes: float64(1), int64(1), object(2)\n",
      "memory usage: 3.2+ MB\n"
     ]
    }
   ],
   "source": [
    "#Extraer la información general\n",
    "internet.info()"
   ]
  },
  {
   "cell_type": "markdown",
   "id": "2c807bfc",
   "metadata": {},
   "source": [
    "Al igual que en los dataframe anteriores, por ahora solo es necesario cambiar el tipo de la columna de la fecha de la sesión web. No hay valores ausentes."
   ]
  },
  {
   "cell_type": "markdown",
   "id": "b8005a0f",
   "metadata": {},
   "source": [
    "Corregir datos:"
   ]
  },
  {
   "cell_type": "code",
   "execution_count": 23,
   "id": "50584f3d",
   "metadata": {},
   "outputs": [],
   "source": [
    "#Cambia la columna 'message_date' a datetime\n",
    "internet['session_date'] = pd.to_datetime(internet['session_date'], format='%Y-%m-%d') "
   ]
  },
  {
   "cell_type": "code",
   "execution_count": 24,
   "id": "25938f1d",
   "metadata": {},
   "outputs": [],
   "source": [
    "#Pasar las unidades de mb a gb\n",
    "internet['mb_used']=internet['mb_used']/1024 \n",
    "\n",
    "#Redondear el consumo de mb hacia arriba\n",
    "internet['mb_used'] = internet['mb_used'].apply(np.ceil) \n",
    "\n",
    "#Renombrar la columna de mb a gb\n",
    "internet = internet.rename(columns={'mb_used': 'gb_used'}) "
   ]
  },
  {
   "cell_type": "code",
   "execution_count": 25,
   "id": "7ec6a9e7",
   "metadata": {},
   "outputs": [
    {
     "data": {
      "text/html": [
       "<div>\n",
       "<style scoped>\n",
       "    .dataframe tbody tr th:only-of-type {\n",
       "        vertical-align: middle;\n",
       "    }\n",
       "\n",
       "    .dataframe tbody tr th {\n",
       "        vertical-align: top;\n",
       "    }\n",
       "\n",
       "    .dataframe thead th {\n",
       "        text-align: right;\n",
       "    }\n",
       "</style>\n",
       "<table border=\"1\" class=\"dataframe\">\n",
       "  <thead>\n",
       "    <tr style=\"text-align: right;\">\n",
       "      <th></th>\n",
       "      <th>id</th>\n",
       "      <th>user_id</th>\n",
       "      <th>session_date</th>\n",
       "      <th>gb_used</th>\n",
       "    </tr>\n",
       "  </thead>\n",
       "  <tbody>\n",
       "  </tbody>\n",
       "</table>\n",
       "</div>"
      ],
      "text/plain": [
       "Empty DataFrame\n",
       "Columns: [id, user_id, session_date, gb_used]\n",
       "Index: []"
      ]
     },
     "execution_count": 25,
     "metadata": {},
     "output_type": "execute_result"
    }
   ],
   "source": [
    "#Verificar si valores duplicados\n",
    "internet[internet.duplicated()]"
   ]
  },
  {
   "cell_type": "markdown",
   "id": "a1fac60f",
   "metadata": {},
   "source": [
    "## Analizar los datos"
   ]
  },
  {
   "cell_type": "markdown",
   "id": "3130c7ec",
   "metadata": {},
   "source": [
    "Estudiar las condiciones de las tarifas:"
   ]
  },
  {
   "cell_type": "code",
   "execution_count": 44,
   "id": "1ad5e27c",
   "metadata": {},
   "outputs": [
    {
     "data": {
      "text/html": [
       "<div>\n",
       "<style scoped>\n",
       "    .dataframe tbody tr th:only-of-type {\n",
       "        vertical-align: middle;\n",
       "    }\n",
       "\n",
       "    .dataframe tbody tr th {\n",
       "        vertical-align: top;\n",
       "    }\n",
       "\n",
       "    .dataframe thead th {\n",
       "        text-align: right;\n",
       "    }\n",
       "</style>\n",
       "<table border=\"1\" class=\"dataframe\">\n",
       "  <thead>\n",
       "    <tr style=\"text-align: right;\">\n",
       "      <th></th>\n",
       "      <th>messages_included</th>\n",
       "      <th>gb_per_month_included</th>\n",
       "      <th>minutes_included</th>\n",
       "      <th>usd_monthly_pay</th>\n",
       "      <th>usd_per_gb</th>\n",
       "      <th>usd_per_message</th>\n",
       "      <th>usd_per_minute</th>\n",
       "      <th>plan_name</th>\n",
       "    </tr>\n",
       "  </thead>\n",
       "  <tbody>\n",
       "    <tr>\n",
       "      <th>0</th>\n",
       "      <td>50</td>\n",
       "      <td>15.0</td>\n",
       "      <td>500</td>\n",
       "      <td>20</td>\n",
       "      <td>10</td>\n",
       "      <td>0.03</td>\n",
       "      <td>0.03</td>\n",
       "      <td>surf</td>\n",
       "    </tr>\n",
       "    <tr>\n",
       "      <th>1</th>\n",
       "      <td>1000</td>\n",
       "      <td>30.0</td>\n",
       "      <td>3000</td>\n",
       "      <td>70</td>\n",
       "      <td>7</td>\n",
       "      <td>0.01</td>\n",
       "      <td>0.01</td>\n",
       "      <td>ultimate</td>\n",
       "    </tr>\n",
       "  </tbody>\n",
       "</table>\n",
       "</div>"
      ],
      "text/plain": [
       "   messages_included  gb_per_month_included  minutes_included  \\\n",
       "0                 50                   15.0               500   \n",
       "1               1000                   30.0              3000   \n",
       "\n",
       "   usd_monthly_pay  usd_per_gb  usd_per_message  usd_per_minute plan_name  \n",
       "0               20          10             0.03            0.03      surf  \n",
       "1               70           7             0.01            0.01  ultimate  "
      ]
     },
     "execution_count": 44,
     "metadata": {},
     "output_type": "execute_result"
    }
   ],
   "source": [
    "plans"
   ]
  },
  {
   "cell_type": "markdown",
   "id": "fe6af89a",
   "metadata": {},
   "source": [
    "Calcular el número de llamadas hechas por cada usuario al mes:"
   ]
  },
  {
   "cell_type": "code",
   "execution_count": 34,
   "id": "4eb290b7",
   "metadata": {},
   "outputs": [
    {
     "data": {
      "text/html": [
       "<div>\n",
       "<style scoped>\n",
       "    .dataframe tbody tr th:only-of-type {\n",
       "        vertical-align: middle;\n",
       "    }\n",
       "\n",
       "    .dataframe tbody tr th {\n",
       "        vertical-align: top;\n",
       "    }\n",
       "\n",
       "    .dataframe thead th {\n",
       "        text-align: right;\n",
       "    }\n",
       "</style>\n",
       "<table border=\"1\" class=\"dataframe\">\n",
       "  <thead>\n",
       "    <tr style=\"text-align: right;\">\n",
       "      <th></th>\n",
       "      <th>user_id</th>\n",
       "      <th>month</th>\n",
       "      <th>total_calls</th>\n",
       "    </tr>\n",
       "  </thead>\n",
       "  <tbody>\n",
       "    <tr>\n",
       "      <th>0</th>\n",
       "      <td>1000</td>\n",
       "      <td>12</td>\n",
       "      <td>16</td>\n",
       "    </tr>\n",
       "    <tr>\n",
       "      <th>1</th>\n",
       "      <td>1001</td>\n",
       "      <td>8</td>\n",
       "      <td>27</td>\n",
       "    </tr>\n",
       "  </tbody>\n",
       "</table>\n",
       "</div>"
      ],
      "text/plain": [
       "   user_id  month  total_calls\n",
       "0     1000     12           16\n",
       "1     1001      8           27"
      ]
     },
     "execution_count": 34,
     "metadata": {},
     "output_type": "execute_result"
    }
   ],
   "source": [
    "#Crear una columna que contenta los meses\n",
    "calls['month'] = calls['call_date'].dt.month \n",
    "\n",
    "#Agrupar las columnas 'user_id' y 'month' y contar 'id'\n",
    "calls_month = calls.groupby(['user_id', 'month'])['id'].count().reset_index(name='total_calls') #agrupo las columnas 'user_id' y 'month' y se comparan con el conteo de 'id'\n",
    "\n",
    "calls_month.head(2)"
   ]
  },
  {
   "cell_type": "markdown",
   "id": "09709134",
   "metadata": {},
   "source": [
    "Calcular los minutos usados por cada usuario al mes:"
   ]
  },
  {
   "cell_type": "code",
   "execution_count": 35,
   "id": "2f91c897",
   "metadata": {},
   "outputs": [
    {
     "data": {
      "text/html": [
       "<div>\n",
       "<style scoped>\n",
       "    .dataframe tbody tr th:only-of-type {\n",
       "        vertical-align: middle;\n",
       "    }\n",
       "\n",
       "    .dataframe tbody tr th {\n",
       "        vertical-align: top;\n",
       "    }\n",
       "\n",
       "    .dataframe thead th {\n",
       "        text-align: right;\n",
       "    }\n",
       "</style>\n",
       "<table border=\"1\" class=\"dataframe\">\n",
       "  <thead>\n",
       "    <tr style=\"text-align: right;\">\n",
       "      <th></th>\n",
       "      <th>user_id</th>\n",
       "      <th>month</th>\n",
       "      <th>total_mins</th>\n",
       "    </tr>\n",
       "  </thead>\n",
       "  <tbody>\n",
       "    <tr>\n",
       "      <th>0</th>\n",
       "      <td>1000</td>\n",
       "      <td>12</td>\n",
       "      <td>124.0</td>\n",
       "    </tr>\n",
       "    <tr>\n",
       "      <th>1</th>\n",
       "      <td>1001</td>\n",
       "      <td>8</td>\n",
       "      <td>182.0</td>\n",
       "    </tr>\n",
       "  </tbody>\n",
       "</table>\n",
       "</div>"
      ],
      "text/plain": [
       "   user_id  month  total_mins\n",
       "0     1000     12       124.0\n",
       "1     1001      8       182.0"
      ]
     },
     "execution_count": 35,
     "metadata": {},
     "output_type": "execute_result"
    }
   ],
   "source": [
    "#Agrupar las columnas 'user_id' y 'month' y se comparan con el conteo de 'id'\n",
    "mins_month = calls.groupby(['user_id', 'month'])['duration'].sum().reset_index(name='total_mins') \n",
    "mins_month.head(2)"
   ]
  },
  {
   "cell_type": "markdown",
   "id": "2b7448f7",
   "metadata": {},
   "source": [
    "Calcular el número de mensajes enviados por cada usuario al mes:"
   ]
  },
  {
   "cell_type": "code",
   "execution_count": 36,
   "id": "8d33b632",
   "metadata": {},
   "outputs": [
    {
     "data": {
      "text/html": [
       "<div>\n",
       "<style scoped>\n",
       "    .dataframe tbody tr th:only-of-type {\n",
       "        vertical-align: middle;\n",
       "    }\n",
       "\n",
       "    .dataframe tbody tr th {\n",
       "        vertical-align: top;\n",
       "    }\n",
       "\n",
       "    .dataframe thead th {\n",
       "        text-align: right;\n",
       "    }\n",
       "</style>\n",
       "<table border=\"1\" class=\"dataframe\">\n",
       "  <thead>\n",
       "    <tr style=\"text-align: right;\">\n",
       "      <th></th>\n",
       "      <th>user_id</th>\n",
       "      <th>month</th>\n",
       "      <th>total_sms</th>\n",
       "    </tr>\n",
       "  </thead>\n",
       "  <tbody>\n",
       "    <tr>\n",
       "      <th>0</th>\n",
       "      <td>1000</td>\n",
       "      <td>12</td>\n",
       "      <td>11</td>\n",
       "    </tr>\n",
       "    <tr>\n",
       "      <th>1</th>\n",
       "      <td>1001</td>\n",
       "      <td>8</td>\n",
       "      <td>30</td>\n",
       "    </tr>\n",
       "  </tbody>\n",
       "</table>\n",
       "</div>"
      ],
      "text/plain": [
       "   user_id  month  total_sms\n",
       "0     1000     12         11\n",
       "1     1001      8         30"
      ]
     },
     "execution_count": 36,
     "metadata": {},
     "output_type": "execute_result"
    }
   ],
   "source": [
    "#Crear una columna con los meses\n",
    "messages['month'] = messages['message_date'].dt.month \n",
    "\n",
    "#Agrupar 'user_id' y 'month'\n",
    "sms_month = messages.groupby(['user_id', 'month'])['id'].count().reset_index(name='total_sms') \n",
    "sms_month.head(2)"
   ]
  },
  {
   "cell_type": "markdown",
   "id": "4dc3bcd1",
   "metadata": {},
   "source": [
    "Calcula el volumen del tráfico de Internet usado por cada usuario al mes:"
   ]
  },
  {
   "cell_type": "code",
   "execution_count": 37,
   "id": "3cd1600e",
   "metadata": {},
   "outputs": [
    {
     "data": {
      "text/html": [
       "<div>\n",
       "<style scoped>\n",
       "    .dataframe tbody tr th:only-of-type {\n",
       "        vertical-align: middle;\n",
       "    }\n",
       "\n",
       "    .dataframe tbody tr th {\n",
       "        vertical-align: top;\n",
       "    }\n",
       "\n",
       "    .dataframe thead th {\n",
       "        text-align: right;\n",
       "    }\n",
       "</style>\n",
       "<table border=\"1\" class=\"dataframe\">\n",
       "  <thead>\n",
       "    <tr style=\"text-align: right;\">\n",
       "      <th></th>\n",
       "      <th>user_id</th>\n",
       "      <th>month</th>\n",
       "      <th>total_gb</th>\n",
       "    </tr>\n",
       "  </thead>\n",
       "  <tbody>\n",
       "    <tr>\n",
       "      <th>0</th>\n",
       "      <td>1000</td>\n",
       "      <td>12</td>\n",
       "      <td>4.0</td>\n",
       "    </tr>\n",
       "    <tr>\n",
       "      <th>1</th>\n",
       "      <td>1001</td>\n",
       "      <td>8</td>\n",
       "      <td>21.0</td>\n",
       "    </tr>\n",
       "  </tbody>\n",
       "</table>\n",
       "</div>"
      ],
      "text/plain": [
       "   user_id  month  total_gb\n",
       "0     1000     12       4.0\n",
       "1     1001      8      21.0"
      ]
     },
     "execution_count": 37,
     "metadata": {},
     "output_type": "execute_result"
    }
   ],
   "source": [
    "#Crear una columna que contenga solo los meses\n",
    "internet['month'] = internet['session_date'].dt.month \n",
    "\n",
    "#Agrupo el dataframe por 'user_id' y 'month'\n",
    "gb_month = internet.groupby(['user_id', 'month'])['gb_used'].sum().reset_index(name='total_gb') \n",
    "gb_month.head(2)"
   ]
  },
  {
   "cell_type": "markdown",
   "id": "95b5a009",
   "metadata": {},
   "source": [
    "Fusionar los datos de llamadas, minutos, mensajes e Internet con base en user_id y month:"
   ]
  },
  {
   "cell_type": "code",
   "execution_count": 38,
   "id": "a7ed7d26",
   "metadata": {},
   "outputs": [
    {
     "data": {
      "text/html": [
       "<div>\n",
       "<style scoped>\n",
       "    .dataframe tbody tr th:only-of-type {\n",
       "        vertical-align: middle;\n",
       "    }\n",
       "\n",
       "    .dataframe tbody tr th {\n",
       "        vertical-align: top;\n",
       "    }\n",
       "\n",
       "    .dataframe thead th {\n",
       "        text-align: right;\n",
       "    }\n",
       "</style>\n",
       "<table border=\"1\" class=\"dataframe\">\n",
       "  <thead>\n",
       "    <tr style=\"text-align: right;\">\n",
       "      <th></th>\n",
       "      <th>user_id</th>\n",
       "      <th>month</th>\n",
       "      <th>total_mins</th>\n",
       "      <th>total_sms</th>\n",
       "      <th>total_gb</th>\n",
       "    </tr>\n",
       "  </thead>\n",
       "  <tbody>\n",
       "    <tr>\n",
       "      <th>0</th>\n",
       "      <td>1000</td>\n",
       "      <td>12</td>\n",
       "      <td>124.0</td>\n",
       "      <td>11</td>\n",
       "      <td>4.0</td>\n",
       "    </tr>\n",
       "    <tr>\n",
       "      <th>1</th>\n",
       "      <td>1001</td>\n",
       "      <td>8</td>\n",
       "      <td>182.0</td>\n",
       "      <td>30</td>\n",
       "      <td>21.0</td>\n",
       "    </tr>\n",
       "  </tbody>\n",
       "</table>\n",
       "</div>"
      ],
      "text/plain": [
       "   user_id  month  total_mins  total_sms  total_gb\n",
       "0     1000     12       124.0         11       4.0\n",
       "1     1001      8       182.0         30      21.0"
      ]
     },
     "execution_count": 38,
     "metadata": {},
     "output_type": "execute_result"
    }
   ],
   "source": [
    "#Combinar los dataframes de la duración de las llamadas y los mensajes enviados\n",
    "mins_sms = mins_month.merge(sms_month, on=['user_id', 'month']) \n",
    "\n",
    "#Combinar el dataframe anterior con el de los consumos de datos\n",
    "fusion = mins_sms.merge(gb_month, on=['user_id', 'month']) \n",
    "\n",
    "fusion.head(2)"
   ]
  },
  {
   "cell_type": "markdown",
   "id": "3dcf69f6",
   "metadata": {},
   "source": [
    "Añadir la información de la tarifa:"
   ]
  },
  {
   "cell_type": "code",
   "execution_count": 39,
   "id": "a9426537",
   "metadata": {},
   "outputs": [
    {
     "data": {
      "text/html": [
       "<div>\n",
       "<style scoped>\n",
       "    .dataframe tbody tr th:only-of-type {\n",
       "        vertical-align: middle;\n",
       "    }\n",
       "\n",
       "    .dataframe tbody tr th {\n",
       "        vertical-align: top;\n",
       "    }\n",
       "\n",
       "    .dataframe thead th {\n",
       "        text-align: right;\n",
       "    }\n",
       "</style>\n",
       "<table border=\"1\" class=\"dataframe\">\n",
       "  <thead>\n",
       "    <tr style=\"text-align: right;\">\n",
       "      <th></th>\n",
       "      <th>user_id</th>\n",
       "      <th>plan</th>\n",
       "      <th>city</th>\n",
       "      <th>month</th>\n",
       "      <th>total_mins</th>\n",
       "      <th>total_sms</th>\n",
       "      <th>total_gb</th>\n",
       "    </tr>\n",
       "  </thead>\n",
       "  <tbody>\n",
       "    <tr>\n",
       "      <th>0</th>\n",
       "      <td>1000</td>\n",
       "      <td>ultimate</td>\n",
       "      <td>Atlanta-Sandy Springs-Roswell, GA MSA</td>\n",
       "      <td>12</td>\n",
       "      <td>124.0</td>\n",
       "      <td>11</td>\n",
       "      <td>4.0</td>\n",
       "    </tr>\n",
       "    <tr>\n",
       "      <th>1</th>\n",
       "      <td>1001</td>\n",
       "      <td>surf</td>\n",
       "      <td>Seattle-Tacoma-Bellevue, WA MSA</td>\n",
       "      <td>8</td>\n",
       "      <td>182.0</td>\n",
       "      <td>30</td>\n",
       "      <td>21.0</td>\n",
       "    </tr>\n",
       "  </tbody>\n",
       "</table>\n",
       "</div>"
      ],
      "text/plain": [
       "   user_id      plan                                   city  month  \\\n",
       "0     1000  ultimate  Atlanta-Sandy Springs-Roswell, GA MSA     12   \n",
       "1     1001      surf        Seattle-Tacoma-Bellevue, WA MSA      8   \n",
       "\n",
       "   total_mins  total_sms  total_gb  \n",
       "0       124.0         11       4.0  \n",
       "1       182.0         30      21.0  "
      ]
     },
     "execution_count": 39,
     "metadata": {},
     "output_type": "execute_result"
    }
   ],
   "source": [
    "#Extraer las columnas que se necesitan de users para combinar con el datafame fusionado, \n",
    "#más la de ciudad que se necesita para más adelante\n",
    "user = users[['user_id','plan', 'city']] \n",
    "\n",
    "#Combinar el df de los planes con el df que tiene la inforemación fusionada\n",
    "all = user.merge(fusion, on=['user_id']) \n",
    "\n",
    "all.head(2)"
   ]
  },
  {
   "cell_type": "markdown",
   "id": "8b2e42a7",
   "metadata": {},
   "source": [
    "Calcular el ingreso mensual para cada usuario:"
   ]
  },
  {
   "cell_type": "code",
   "execution_count": 42,
   "id": "f4111548",
   "metadata": {},
   "outputs": [
    {
     "data": {
      "text/html": [
       "<div>\n",
       "<style scoped>\n",
       "    .dataframe tbody tr th:only-of-type {\n",
       "        vertical-align: middle;\n",
       "    }\n",
       "\n",
       "    .dataframe tbody tr th {\n",
       "        vertical-align: top;\n",
       "    }\n",
       "\n",
       "    .dataframe thead th {\n",
       "        text-align: right;\n",
       "    }\n",
       "</style>\n",
       "<table border=\"1\" class=\"dataframe\">\n",
       "  <thead>\n",
       "    <tr style=\"text-align: right;\">\n",
       "      <th></th>\n",
       "      <th>user_id</th>\n",
       "      <th>plan</th>\n",
       "      <th>month</th>\n",
       "      <th>income</th>\n",
       "    </tr>\n",
       "  </thead>\n",
       "  <tbody>\n",
       "    <tr>\n",
       "      <th>0</th>\n",
       "      <td>1000</td>\n",
       "      <td>ultimate</td>\n",
       "      <td>12</td>\n",
       "      <td>70.0</td>\n",
       "    </tr>\n",
       "    <tr>\n",
       "      <th>1</th>\n",
       "      <td>1006</td>\n",
       "      <td>ultimate</td>\n",
       "      <td>11</td>\n",
       "      <td>70.0</td>\n",
       "    </tr>\n",
       "  </tbody>\n",
       "</table>\n",
       "</div>"
      ],
      "text/plain": [
       "   user_id      plan  month  income\n",
       "0     1000  ultimate     12    70.0\n",
       "1     1006  ultimate     11    70.0"
      ]
     },
     "execution_count": 42,
     "metadata": {},
     "output_type": "execute_result"
    }
   ],
   "source": [
    "#Combinar el dt fusionado con plans para tener las tarifas\n",
    "df = all.merge(plans, left_on='plan', right_on='plan_name') \n",
    "\n",
    "#Eliminar la columna 'plan_name', para no tener dos columnas con la misma información\n",
    "df = df.drop('plan_name', axis=1) \n",
    "\n",
    "#Calcular los mins, mensajes y gb extras que se gastaron\n",
    "\n",
    "#Minutos\n",
    "df['mins'] = np.ceil(df['total_mins'])-df['minutes_included']\n",
    "\n",
    "#Mensajes\n",
    "df['sms'] = df['total_sms']-df['messages_included'] \n",
    "\n",
    "#Gigabytes\n",
    "df['data'] = np.ceil(df['total_gb'])-df['gb_per_month_included'] \n",
    "\n",
    "#Sobre cargo que tiene cada usuario por los minutos, mensajes y gb demás que usaron\n",
    "df['charge_mins'] = np.where(df[ 'mins'] > 0, df[ 'mins'] * df['usd_per_minute'],0)\n",
    "df['charge_sms'] = np.where(df[ 'sms'] > 0, df[ 'sms'] * df['usd_per_message'],0)\n",
    "df['charge_data'] = np.where(df[ 'data'] > 0, df[ 'data'] * df['usd_per_gb'],0)\n",
    "\n",
    "\n",
    "#Sumar la tarifa mensual, con el sobre cargo\n",
    "df['income']=df['usd_monthly_pay'] + df[ 'charge_mins'] + df[ 'charge_sms'] + df['charge_data']\n",
    "\n",
    "#Ingreso mensual por usuario\n",
    "df[['user_id', 'plan','month', 'income']].head(2)"
   ]
  },
  {
   "cell_type": "markdown",
   "id": "ecc93af0",
   "metadata": {},
   "source": [
    "### Llamadas"
   ]
  },
  {
   "cell_type": "markdown",
   "id": "88a31884",
   "metadata": {},
   "source": [
    "Comparar la duración promedio de llamadas por cada plan y por cada mes:"
   ]
  },
  {
   "cell_type": "code",
   "execution_count": 47,
   "id": "23bc8d70",
   "metadata": {},
   "outputs": [
    {
     "data": {
      "image/png": "[encoded data removed]",
      "text/plain": [
       "<Figure size 640x480 with 1 Axes>"
      ]
     },
     "metadata": {},
     "output_type": "display_data"
    }
   ],
   "source": [
    "calls_mean = all.groupby(['plan', 'month'])['total_mins'].mean()\n",
    "\n",
    "calls_mean.plot(kind = 'bar', \n",
    "                title= 'Duración promedio de llamadas por cada plan y por cada mes', \n",
    "                xlabel = 'Meses por plan', \n",
    "                ylabel = 'Promedio duración llamadas',\n",
    "               color = ['orange', 'blue'])\n",
    "\n",
    "plt.legend(['Surf', 'Utilmate'])\n",
    "plt.show()"
   ]
  },
  {
   "cell_type": "markdown",
   "id": "10acdd93",
   "metadata": {},
   "source": [
    "Comparar el número de minutos mensuales que necesitan los usuarios de cada plan:"
   ]
  },
  {
   "cell_type": "code",
   "execution_count": 48,
   "id": "bb459c1e",
   "metadata": {},
   "outputs": [
    {
     "data": {
      "image/png": "[encoded data removed]",
      "text/plain": [
       "<Figure size 640x480 with 1 Axes>"
      ]
     },
     "metadata": {},
     "output_type": "display_data"
    }
   ],
   "source": [
    "all[all['plan'] == 'surf']['total_mins'].plot(kind='hist')\n",
    "all[all['plan'] == 'ultimate']['total_mins'].plot(kind='hist', alpha=0.7)\n",
    "\n",
    "plt.legend(['Surf', 'Utilmate'])\n",
    "plt.show()"
   ]
  },
  {
   "cell_type": "markdown",
   "id": "ee58f085",
   "metadata": {},
   "source": [
    "Calcular la media y la varianza de la duración mensual de llamadas:"
   ]
  },
  {
   "cell_type": "code",
   "execution_count": 49,
   "id": "e17a86a8",
   "metadata": {},
   "outputs": [
    {
     "name": "stdout",
     "output_type": "stream",
     "text": [
      "mean_surf: 445.77542372881356\n",
      "mean_ultimate: 442.51295336787564\n",
      "\n",
      "var_surf: 55274.530073972994\n",
      "var_ultimate: 62180.81978039679\n"
     ]
    }
   ],
   "source": [
    "mean_surf_calls = (all[all['plan'] == 'surf']['total_mins']).mean()\n",
    "print('mean_surf:', mean_surf_calls)\n",
    "\n",
    "mean_ultimate_calls = (all[all['plan'] == 'ultimate']['total_mins']).mean()\n",
    "print('mean_ultimate:', mean_ultimate_calls)\n",
    "\n",
    "print()\n",
    "\n",
    "var_surf_calls = np.var(all[all['plan'] == 'surf']['total_mins'])\n",
    "print('var_surf:', var_surf_calls)\n",
    "\n",
    "var_ultimate_calls = np.var(all[all['plan'] == 'ultimate']['total_mins'])\n",
    "print('var_ultimate:', var_ultimate_calls)"
   ]
  },
  {
   "cell_type": "markdown",
   "id": "125495f0",
   "metadata": {},
   "source": [
    "Distribución de la duración mensual de llamadas:"
   ]
  },
  {
   "cell_type": "code",
   "execution_count": 50,
   "id": "4a430f0a",
   "metadata": {},
   "outputs": [
    {
     "data": {
      "text/plain": [
       "<AxesSubplot:xlabel='total_mins'>"
      ]
     },
     "execution_count": 50,
     "metadata": {},
     "output_type": "execute_result"
    },
    {
     "data": {
      "image/png": "[encoded data removed]",
      "text/plain": [
       "<Figure size 640x480 with 1 Axes>"
      ]
     },
     "metadata": {},
     "output_type": "display_data"
    }
   ],
   "source": [
    "sns.boxplot(all['total_mins'])"
   ]
  },
  {
   "cell_type": "markdown",
   "id": "8b5c3f9b",
   "metadata": {},
   "source": [
    "En términos generales se puede observar que el plan 'surf' tiene un poco más de actividad en cuando a la duración de las llamadas promedio al mes. Sin embargo, no es una diferencia muy significativa. \n",
    "\n",
    "Esto es respaldado por el comportamiento mensual de cada uno de los planes (diagrama barras). Con el diagrama de cajas se puede observar que pasar de los 1000 minutos al mes, es algo atípico.\n",
    "\n",
    "Por otro lado, se puede ver que en cuanto a la frecuencia de llamadas, el plan 'surf' es el que más actividad tiene."
   ]
  },
  {
   "cell_type": "markdown",
   "id": "4a4f43ca",
   "metadata": {},
   "source": [
    "### Mensajes"
   ]
  },
  {
   "cell_type": "markdown",
   "id": "ebe74d85",
   "metadata": {},
   "source": [
    "Comparar el número de mensajes que tienden a enviar cada mes los usuarios de cada plan:"
   ]
  },
  {
   "cell_type": "code",
   "execution_count": 51,
   "id": "077aa10c",
   "metadata": {},
   "outputs": [
    {
     "data": {
      "image/png": "[encoded data removed]",
      "text/plain": [
       "<Figure size 640x480 with 1 Axes>"
      ]
     },
     "metadata": {},
     "output_type": "display_data"
    }
   ],
   "source": [
    "all[all['plan'] == 'surf']['total_sms'].plot(kind='hist')\n",
    "all[all['plan'] == 'ultimate']['total_sms'].plot(kind='hist', alpha=0.7)\n",
    "\n",
    "plt.legend(['Surf', 'Utilmate'])\n",
    "plt.show()"
   ]
  },
  {
   "cell_type": "markdown",
   "id": "220e2b77",
   "metadata": {},
   "source": [
    "Comparar el promedio del número de mensaje por cada plan y por cada mes:"
   ]
  },
  {
   "cell_type": "code",
   "execution_count": 52,
   "id": "a1d119c1",
   "metadata": {},
   "outputs": [
    {
     "data": {
      "image/png": "[encoded data removed]",
      "text/plain": [
       "<Figure size 640x480 with 1 Axes>"
      ]
     },
     "metadata": {},
     "output_type": "display_data"
    }
   ],
   "source": [
    "calls_mean = all.groupby(['plan', 'month'])['total_sms'].mean()\n",
    "\n",
    "calls_mean.plot(kind = 'bar', \n",
    "                title= 'Promedio del número de mensaje por cada plan y por cada mes', \n",
    "                xlabel = 'Meses por plan', \n",
    "                ylabel = 'Promedio del número de mensaje', \n",
    "                color = ['orange', 'blue'])\n",
    "\n",
    "plt.legend(['Surf', 'Utilmate'])\n",
    "plt.show()"
   ]
  },
  {
   "cell_type": "markdown",
   "id": "896a1b34",
   "metadata": {},
   "source": [
    "Calcular la media y la varianza de número de mensajes al mes:"
   ]
  },
  {
   "cell_type": "code",
   "execution_count": 53,
   "id": "36fdfae2",
   "metadata": {},
   "outputs": [
    {
     "name": "stdout",
     "output_type": "stream",
     "text": [
      "mean_surf: 39.489830508474576\n",
      "mean_ultimate: 46.4559585492228\n",
      "\n",
      "var_surf: 1043.3329474288998\n",
      "var_ultimate: 1082.5209446338606\n"
     ]
    }
   ],
   "source": [
    "mean_surf_sms = (all[all['plan'] == 'surf']['total_sms']).mean()\n",
    "print('mean_surf:', mean_surf_sms)\n",
    "\n",
    "mean_ultimate_sms = (all[all['plan'] == 'ultimate']['total_sms']).mean()\n",
    "print('mean_ultimate:', mean_ultimate_sms)\n",
    "\n",
    "print()\n",
    "\n",
    "var_surf_sms = np.var(all[all['plan'] == 'surf']['total_sms'])\n",
    "print('var_surf:', var_surf_sms)\n",
    "\n",
    "var_ultimate_sms = np.var(all[all['plan'] == 'ultimate']['total_sms'])\n",
    "print('var_ultimate:', var_ultimate_sms)"
   ]
  },
  {
   "cell_type": "markdown",
   "id": "7f829b62",
   "metadata": {},
   "source": [
    "De nuevo se puede observar que en cuanto a la frecuencia de mensajes, el plan `Surf` es el que más actividad tiene. \n",
    "\n",
    "Para ambos planes los primeros meses del mes son los que menos actividad tienen y los últimos los que más, siendo en ambos casos el mes de `diciembre` cuando más mensajes se envían. \n",
    "\n",
    "Evaluando la media, en el plan `Ultimate` es donde más mensajes de texto se envían en promedio.\n"
   ]
  },
  {
   "cell_type": "markdown",
   "id": "fcd9c751",
   "metadata": {},
   "source": [
    "### Internet"
   ]
  },
  {
   "cell_type": "markdown",
   "id": "fa7b400f",
   "metadata": {},
   "source": [
    "Comparar la cantidad de tráfico de Internet consumido por usuarios por plan:"
   ]
  },
  {
   "cell_type": "code",
   "execution_count": 55,
   "id": "60d17fbb",
   "metadata": {},
   "outputs": [
    {
     "data": {
      "image/png": "[encoded data removed]",
      "text/plain": [
       "<Figure size 640x480 with 1 Axes>"
      ]
     },
     "metadata": {},
     "output_type": "display_data"
    }
   ],
   "source": [
    "all[all['plan'] == 'surf']['total_gb'].plot(kind='hist')\n",
    "all[all['plan'] == 'ultimate']['total_gb'].plot(kind='hist', alpha=0.7)\n",
    "\n",
    "plt.legend(['Surf', 'Utilmate'])\n",
    "plt.show()"
   ]
  },
  {
   "cell_type": "markdown",
   "id": "ce84257b",
   "metadata": {},
   "source": [
    "Comparar el promedio de gb usado por cada plan y por cada mes:"
   ]
  },
  {
   "cell_type": "code",
   "execution_count": 56,
   "id": "90bc9f3e",
   "metadata": {},
   "outputs": [
    {
     "data": {
      "image/png": "[encoded data removed]",
      "text/plain": [
       "<Figure size 640x480 with 1 Axes>"
      ]
     },
     "metadata": {},
     "output_type": "display_data"
    }
   ],
   "source": [
    "calls_mean = all.groupby(['plan', 'month'])['total_gb'].mean()\n",
    "\n",
    "calls_mean.plot(kind = 'bar', \n",
    "                title= 'Promedio de gb usado por cada plan y por cada mes', \n",
    "                xlabel = 'Meses por plan', \n",
    "                ylabel = 'Promedio de gb usados', \n",
    "                color = ['orange', 'blue'])\n",
    "\n",
    "plt.legend(['Surf', 'Utilmate'])\n",
    "plt.show()"
   ]
  },
  {
   "cell_type": "markdown",
   "id": "51acc6e3",
   "metadata": {},
   "source": [
    "Calcular la media y la varianza del consumo de intenert al mes:\n"
   ]
  },
  {
   "cell_type": "code",
   "execution_count": 57,
   "id": "266e0590",
   "metadata": {},
   "outputs": [
    {
     "name": "stdout",
     "output_type": "stream",
     "text": [
      "mean_surf: 40.26864406779661\n",
      "mean_ultimate: 41.134715025906736\n",
      "\n",
      "var_surf: 300.98461002585464\n",
      "var_ultimate: 249.2219209464236\n"
     ]
    }
   ],
   "source": [
    "mean_surf_datos = (all[all['plan'] == 'surf']['total_gb']).mean()\n",
    "print('mean_surf:', mean_surf_datos)\n",
    "\n",
    "mean_ultimate_datos = (all[all['plan'] == 'ultimate']['total_gb']).mean()\n",
    "print('mean_ultimate:', mean_ultimate_datos)\n",
    "\n",
    "print()\n",
    "\n",
    "var_surf_datos = np.var(all[all['plan'] == 'surf']['total_gb'])\n",
    "print('var_surf:', var_surf_datos)\n",
    "\n",
    "var_ultimate_datos = np.var(all[all['plan'] == 'ultimate']['total_gb'])\n",
    "print('var_ultimate:', var_ultimate_datos)"
   ]
  },
  {
   "cell_type": "markdown",
   "id": "baa6e74c",
   "metadata": {},
   "source": [
    "En cuando al uso de internet, ambos planes tienen un comportamiento muy similar a lo largo del año a excepción de los meses de enero y marzo en el plan `Ultimate`, ya que en uno fue muy bajo en consumo (enero) y en el otro fue mucho más elevado de lo normal (marzo). Esto es confirmado con la media, ya que para ambos planes es la misma.\n"
   ]
  },
  {
   "cell_type": "markdown",
   "id": "2eee199d",
   "metadata": {},
   "source": [
    "### Ingresos"
   ]
  },
  {
   "cell_type": "markdown",
   "id": "337d92ed",
   "metadata": {},
   "source": [
    "Comparar el ingreso generado por usuarios por plan:\n"
   ]
  },
  {
   "cell_type": "code",
   "execution_count": 58,
   "id": "3fcdba44",
   "metadata": {},
   "outputs": [
    {
     "data": {
      "image/png": "[encoded data removed]",
      "text/plain": [
       "<Figure size 640x480 with 1 Axes>"
      ]
     },
     "metadata": {},
     "output_type": "display_data"
    }
   ],
   "source": [
    "df[df['plan'] == 'surf']['income'].plot(kind='hist')\n",
    "df[df['plan'] == 'ultimate']['income'].plot(kind='hist', alpha=0.7)\n",
    "\n",
    "plt.legend(['Surf', 'Utilmate'])\n",
    "\n",
    "plt.show()"
   ]
  },
  {
   "cell_type": "markdown",
   "id": "c4245611",
   "metadata": {},
   "source": [
    "Calcular la media y la varianza de los ingresos por plan:\n"
   ]
  },
  {
   "cell_type": "code",
   "execution_count": 59,
   "id": "ff2061cf",
   "metadata": {},
   "outputs": [
    {
     "name": "stdout",
     "output_type": "stream",
     "text": [
      "mean_surf: 282.82261864406786\n",
      "mean_ultimate: 165.07426597582037\n",
      "\n",
      "var_surf: 25476.5641281427\n",
      "var_ultimate: 7147.978940523385\n"
     ]
    }
   ],
   "source": [
    "mean_surf_income = (df[df['plan'] == 'surf']['income']).mean()\n",
    "print('mean_surf:', mean_surf_income)\n",
    "\n",
    "mean_ultimate_income = (df[df['plan'] == 'ultimate']['income']).mean()\n",
    "print('mean_ultimate:', mean_ultimate_income)\n",
    "\n",
    "print()\n",
    "\n",
    "var_surf_income = np.var(df[df['plan'] == 'surf']['income'])\n",
    "print('var_surf:', var_surf_income)\n",
    "\n",
    "var_ultimate_income = np.var(df[df['plan'] == 'ultimate']['income'])\n",
    "print('var_ultimate:', var_ultimate_income)"
   ]
  },
  {
   "cell_type": "markdown",
   "id": "49a13cdc",
   "metadata": {},
   "source": [
    "Comparar el ingreso promedio por cada plan y por cada mes:\n"
   ]
  },
  {
   "cell_type": "code",
   "execution_count": 60,
   "id": "e8517720",
   "metadata": {},
   "outputs": [
    {
     "data": {
      "image/png": "[encoded data removed]",
      "text/plain": [
       "<Figure size 640x480 with 1 Axes>"
      ]
     },
     "metadata": {},
     "output_type": "display_data"
    }
   ],
   "source": [
    "income_mean = df.groupby(['plan', 'month'])['income'].mean()\n",
    "\n",
    "income_mean.plot(kind = 'bar', \n",
    "                title= 'Ingreso promedio por cada plan y por cada mes', \n",
    "                xlabel = 'Meses por plan', \n",
    "                ylabel = 'Ingreso promedio', \n",
    "                color = ['orange', 'blue'])\n",
    "\n",
    "plt.legend(['Surf', 'Utilmate'])\n",
    "plt.show()"
   ]
  },
  {
   "cell_type": "markdown",
   "id": "1b062b7f",
   "metadata": {},
   "source": [
    "En el histograma se puede evidenciar una gran diferencia en cuento a los ingresos por cada plan. El ingreso de `Surf` es mucho más alto que el de `Ultimate`, esto puede ser debido a que el plan `Surf` tiene menos minutos, mensajes y datos, por lo que es más fácil que los clientes se pasen en sus límites y deban pagar el sobrecosto. Sin embargo, al hacer el diagrama de barras y el promedio y varianza por cada plan se evidente que el plan `Ultimate` es el que genera mayores ingresos a la compañía.\n"
   ]
  },
  {
   "cell_type": "markdown",
   "id": "f0132853",
   "metadata": {},
   "source": [
    "## Prueba las hipótesis estadísticas"
   ]
  },
  {
   "cell_type": "markdown",
   "id": "9d4ec6d1",
   "metadata": {},
   "source": [
    "Hipótesis 1: Son diferentes los ingresos promedio procedentes de los usuarios de los planes de llamada Ultimate y Surf"
   ]
  },
  {
   "cell_type": "code",
   "execution_count": 61,
   "id": "190d9bf2",
   "metadata": {},
   "outputs": [
    {
     "name": "stdout",
     "output_type": "stream",
     "text": [
      "valor-p: 1.0052255610544789e-81\n",
      "Rechazamos la hipótesis nula\n"
     ]
    }
   ],
   "source": [
    "surf_income = (df[df['plan'] == 'surf']['income'])\n",
    "ultimate_income = (df[df['plan'] == 'ultimate']['income'])\n",
    "\n",
    "alpha = 0.05\n",
    "\n",
    "result = st.ttest_ind(surf_income, ultimate_income,equal_var = False)\n",
    "\n",
    "print('valor-p:', result.pvalue)\n",
    "\n",
    "if (result.pvalue < alpha):\n",
    "    print(\"Rechazamos la hipótesis nula\")\n",
    "else:\n",
    "    print(\"No podemos rechazar la hipótesis nula\")"
   ]
  },
  {
   "cell_type": "markdown",
   "id": "1cea8b67",
   "metadata": {},
   "source": [
    "Hipótesis 2: El ingreso promedio de los usuarios del área NY-NJ es diferente al de los usuarios de otras regiones"
   ]
  },
  {
   "cell_type": "code",
   "execution_count": 62,
   "id": "c36bf109",
   "metadata": {},
   "outputs": [
    {
     "name": "stdout",
     "output_type": "stream",
     "text": [
      "valor-p: 0.20786207648480143\n",
      "No podemos rechazar la hipótesis nula\n"
     ]
    }
   ],
   "source": [
    "income_NY_NJ = (df[df['city'] == 'New York-Newark-Jersey City, NY-NJ-PA MSA']['income'])\n",
    "income_others = (df[df['city'] != 'New York-Newark-Jersey City, NY-NJ-PA MSA']['income'])\n",
    "\n",
    "alpha = 0.05\n",
    "\n",
    "result = st.ttest_ind(income_NY_NJ, income_others, equal_var = False)\n",
    "\n",
    "print('valor-p:', result.pvalue)\n",
    "\n",
    "if (result.pvalue < alpha):\n",
    "    print(\"Rechazamos la hipótesis nula\")\n",
    "else:\n",
    "    print(\"No podemos rechazar la hipótesis nula\")"
   ]
  },
  {
   "cell_type": "markdown",
   "id": "7c563c2f",
   "metadata": {},
   "source": [
    "Con estas hipótesis, se puede decir que los ingresos por plan no son iguales."
   ]
  },
  {
   "cell_type": "markdown",
   "id": "cb2fce8e",
   "metadata": {},
   "source": [
    "# Conclusión"
   ]
  },
  {
   "cell_type": "markdown",
   "id": "b3a305d2",
   "metadata": {},
   "source": [
    "En general creo que el comportamiento de los usuarios de los planes `Surf` y `Ultimate` son muy similares. Sin embargo, se puede evidenciar que el ingreso del plan `Ultimate` es ligeramente más alto que el del plan Surf, por lo que le recomendaría a la empresa invertir un poco más en publicidad para el plan `Ultimate`, ya que parece ser el que genera más ingresos."
   ]
  }
 ],
 "metadata": {
  "ExecuteTimeLog": [
   {
    "duration": 2447,
    "start_time": "2024-09-20T17:27:52.912Z"
   },
   {
    "duration": 257,
    "start_time": "2024-09-20T17:28:53.857Z"
   },
   {
    "duration": 3,
    "start_time": "2024-09-20T17:29:18.828Z"
   },
   {
    "duration": 17,
    "start_time": "2024-09-20T17:31:09.939Z"
   },
   {
    "duration": 9,
    "start_time": "2024-09-20T17:33:02.588Z"
   },
   {
    "duration": 8,
    "start_time": "2024-09-20T17:34:05.408Z"
   },
   {
    "duration": 22,
    "start_time": "2024-09-20T17:35:38.516Z"
   },
   {
    "duration": 12,
    "start_time": "2024-09-20T17:36:09.101Z"
   },
   {
    "duration": 29,
    "start_time": "2024-09-20T17:36:23.402Z"
   },
   {
    "duration": 9,
    "start_time": "2024-09-20T17:37:43.996Z"
   },
   {
    "duration": 10,
    "start_time": "2024-09-20T17:40:19.149Z"
   },
   {
    "duration": 8,
    "start_time": "2024-09-20T17:41:18.878Z"
   },
   {
    "duration": 5,
    "start_time": "2024-09-20T17:51:51.350Z"
   },
   {
    "duration": 4,
    "start_time": "2024-09-20T17:52:19.938Z"
   },
   {
    "duration": 5,
    "start_time": "2024-09-20T17:53:02.242Z"
   },
   {
    "duration": 430,
    "start_time": "2024-09-20T17:53:26.889Z"
   },
   {
    "duration": 7,
    "start_time": "2024-09-20T17:53:57.047Z"
   },
   {
    "duration": 3,
    "start_time": "2024-09-20T17:54:21.591Z"
   },
   {
    "duration": 12,
    "start_time": "2024-09-20T17:54:42.747Z"
   },
   {
    "duration": 11,
    "start_time": "2024-09-20T17:55:51.750Z"
   },
   {
    "duration": 14,
    "start_time": "2024-09-20T17:56:10.492Z"
   },
   {
    "duration": 14,
    "start_time": "2024-09-20T18:02:51.705Z"
   },
   {
    "duration": 12,
    "start_time": "2024-09-20T18:03:50.872Z"
   },
   {
    "duration": 5,
    "start_time": "2024-09-20T18:04:55.053Z"
   },
   {
    "duration": 29,
    "start_time": "2024-09-20T18:05:12.662Z"
   },
   {
    "duration": 23,
    "start_time": "2024-09-20T18:52:51.326Z"
   },
   {
    "duration": 39,
    "start_time": "2024-09-20T18:53:29.411Z"
   },
   {
    "duration": 38,
    "start_time": "2024-09-20T18:53:40.611Z"
   },
   {
    "duration": 5,
    "start_time": "2024-09-20T18:57:15.465Z"
   },
   {
    "duration": 48,
    "start_time": "2024-09-20T18:57:27.610Z"
   },
   {
    "duration": 22,
    "start_time": "2024-09-20T18:57:47.469Z"
   },
   {
    "duration": 3,
    "start_time": "2024-09-20T18:58:34.825Z"
   },
   {
    "duration": 15,
    "start_time": "2024-09-20T18:59:09.418Z"
   },
   {
    "duration": 23,
    "start_time": "2024-09-20T18:59:28.579Z"
   },
   {
    "duration": 14,
    "start_time": "2024-09-20T18:59:31.382Z"
   },
   {
    "duration": 15,
    "start_time": "2024-09-20T19:00:26.176Z"
   },
   {
    "duration": 15,
    "start_time": "2024-09-20T19:01:09.951Z"
   },
   {
    "duration": 12,
    "start_time": "2024-09-20T19:02:18.788Z"
   },
   {
    "duration": 11,
    "start_time": "2024-09-20T19:03:41.317Z"
   },
   {
    "duration": 20,
    "start_time": "2024-09-20T19:07:38.710Z"
   },
   {
    "duration": 20,
    "start_time": "2024-09-20T19:07:48.292Z"
   },
   {
    "duration": 17,
    "start_time": "2024-09-20T19:07:54.089Z"
   },
   {
    "duration": 2,
    "start_time": "2024-09-20T19:08:23.961Z"
   },
   {
    "duration": 8,
    "start_time": "2024-09-20T19:12:55.653Z"
   },
   {
    "duration": 211,
    "start_time": "2024-09-20T19:13:53.486Z"
   },
   {
    "duration": 207,
    "start_time": "2024-09-20T19:14:55.819Z"
   },
   {
    "duration": 203,
    "start_time": "2024-09-20T19:15:03.117Z"
   },
   {
    "duration": 143,
    "start_time": "2024-09-20T19:17:17.775Z"
   },
   {
    "duration": 8,
    "start_time": "2024-09-20T19:23:15.489Z"
   },
   {
    "duration": 82,
    "start_time": "2024-09-20T19:23:54.875Z"
   },
   {
    "duration": 193,
    "start_time": "2024-09-20T19:29:11.217Z"
   },
   {
    "duration": 201,
    "start_time": "2024-09-20T19:29:42.687Z"
   },
   {
    "duration": 8,
    "start_time": "2024-09-20T19:30:11.135Z"
   },
   {
    "duration": 5,
    "start_time": "2024-09-20T19:32:01.819Z"
   },
   {
    "duration": 139,
    "start_time": "2024-09-20T19:32:14.142Z"
   },
   {
    "duration": 197,
    "start_time": "2024-09-20T19:32:41.356Z"
   },
   {
    "duration": 7,
    "start_time": "2024-09-20T19:33:04.289Z"
   },
   {
    "duration": 139,
    "start_time": "2024-09-20T19:36:19.638Z"
   },
   {
    "duration": 9,
    "start_time": "2024-09-20T19:36:41.487Z"
   },
   {
    "duration": 198,
    "start_time": "2024-09-20T19:37:06.864Z"
   },
   {
    "duration": 7,
    "start_time": "2024-09-20T19:41:08.221Z"
   },
   {
    "duration": 7,
    "start_time": "2024-09-20T19:42:01.682Z"
   }
  ],
  "kernelspec": {
   "display_name": "Python 3 (ipykernel)",
   "language": "python",
   "name": "python3"
  },
  "language_info": {
   "codemirror_mode": {
    "name": "ipython",
    "version": 3
   },
   "file_extension": ".py",
   "mimetype": "text/x-python",
   "name": "python",
   "nbconvert_exporter": "python",
   "pygments_lexer": "ipython3",
   "version": "3.9.19"
  },
  "toc": {
   "base_numbering": 1,
   "nav_menu": {},
   "number_sections": true,
   "sideBar": true,
   "skip_h1_title": true,
   "title_cell": "Table of Contents",
   "title_sidebar": "Contents",
   "toc_cell": false,
   "toc_position": {},
   "toc_section_display": true,
   "toc_window_display": false
  }
 },
 "nbformat": 4,
 "nbformat_minor": 5
}
